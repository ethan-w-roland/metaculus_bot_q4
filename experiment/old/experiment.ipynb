{
 "cells": [
  {
   "cell_type": "code",
   "execution_count": 386,
   "metadata": {},
   "outputs": [],
   "source": [
    "import json, os\n",
    "from openai import OpenAI\n",
    "\n",
    "openai_client = OpenAI(api_key=os.environ[\"OPENAI_API_KEY\"])\n",
    "perplexity_client = OpenAI(api_key=os.environ[\"PERPLEXITY_KEY\"], base_url=\"https://api.perplexity.ai\")"
   ]
  },
  {
   "cell_type": "code",
   "execution_count": 387,
   "metadata": {},
   "outputs": [],
   "source": [
    "background_prompt = open(\"prompts/background.prompt\", \"r\").read()\n",
    "subquestions_prompt = open(\"prompts/subquestions.prompt\", \"r\").read()\n",
    "probabilities_prompt = open(\"prompts/probabilities.prompt\", \"r\").read()\n",
    "jsonify_prompt = open(\"prompts/jsonify.prompt\", \"r\").read()\n",
    "boolean_prompt = open(\"prompts/boolean.prompt\", \"r\").read()"
   ]
  },
  {
   "cell_type": "code",
   "execution_count": 388,
   "metadata": {},
   "outputs": [],
   "source": [
    "question = \"\"\"Will the average house price in Roswell, Georgia, USA, be higher this time next year?\"\"\"\n",
    "criteria = \"\"\"Use your best judgement to determine a reasonable resolution criteria for this question.\"\"\"\n",
    "metaculus_background = \"\"\"NA\"\"\""
   ]
  },
  {
   "cell_type": "code",
   "execution_count": null,
   "metadata": {},
   "outputs": [],
   "source": [
    "#step one: get background info on question from perplexity\n",
    "prompt = background_prompt.format(question=question)\n",
    "messages = [{'role':'user','content':prompt}]\n",
    "response = perplexity_client.chat.completions.create(\n",
    "    seed=42,\n",
    "    model=\"llama-3.1-sonar-huge-128k-online\",\n",
    "    messages=messages\n",
    ")\n",
    "perplexity_background = response.choices[0].message.content\n",
    "print(perplexity_background)"
   ]
  },
  {
   "cell_type": "code",
   "execution_count": null,
   "metadata": {},
   "outputs": [],
   "source": [
    "#step two: break down question into subquestions\n",
    "#get current date in yyyy-mm-dd format\n",
    "from datetime import datetime\n",
    "current_date = datetime.now().strftime('%Y-%m-%d')\n",
    "prompt = subquestions_prompt.format(\n",
    "    question=question,\n",
    "    criteria=criteria,\n",
    "    date=current_date,\n",
    "    metaculus_background=metaculus_background,\n",
    "    perplexity_background=perplexity_background)\n",
    "messages = [{'role':'user','content':prompt}]\n",
    "response = openai_client.chat.completions.create(\n",
    "    seed=42,\n",
    "    model=\"gpt-4o\",\n",
    "    messages=messages\n",
    ")\n",
    "subquestions = response.choices[0].message.content\n",
    "messages += [{'role':'assistant','content':subquestions}]\n",
    "print(subquestions)"
   ]
  },
  {
   "cell_type": "code",
   "execution_count": null,
   "metadata": {},
   "outputs": [],
   "source": [
    "#step three: estimate probabilties for each subquestion\n",
    "messages += [{'role':'user','content':probabilities_prompt}]\n",
    "response = openai_client.chat.completions.create(\n",
    "    seed=42,\n",
    "    model=\"gpt-4o\",\n",
    "    messages=messages\n",
    ")\n",
    "probabilities = response.choices[0].message.content\n",
    "messages += [{'role':'assistant','content':probabilities}]\n",
    "print(probabilities)"
   ]
  },
  {
   "cell_type": "code",
   "execution_count": null,
   "metadata": {},
   "outputs": [],
   "source": [
    "#step four: jsonify the results\n",
    "messages += [{'role':'user','content':jsonify_prompt}]\n",
    "response = openai_client.chat.completions.create(\n",
    "    seed=42,\n",
    "    model=\"gpt-4o\",\n",
    "    messages=messages,\n",
    "    response_format={\"type\":\"json_object\"}\n",
    ")\n",
    "prob_values = response.choices[0].message.content\n",
    "prob_values = json.loads(prob_values)['questions']\n",
    "display(prob_values)"
   ]
  },
  {
   "cell_type": "code",
   "execution_count": null,
   "metadata": {},
   "outputs": [],
   "source": [
    "#step five: for each subquestion, evaluate the truth value\n",
    "for entry in prob_values:\n",
    "    question = entry['question']\n",
    "    print(question)\n",
    "    messages = [\n",
    "        {'role':'user','content':question}]\n",
    "    response = perplexity_client.chat.completions.create(\n",
    "        seed=42,\n",
    "        model=\"llama-3.1-sonar-small-128k-online\",\n",
    "        messages=messages\n",
    "    )\n",
    "    answer = response.choices[0].message.content\n",
    "    print(answer)\n",
    "    prompt = boolean_prompt.format(\n",
    "                question=question, \n",
    "                answer=answer)\n",
    "    message = {'role':'user','content':prompt}\n",
    "    response = openai_client.chat.completions.create(\n",
    "        seed=42,\n",
    "        model=\"gpt-4o\",\n",
    "        messages=[message]\n",
    "    )\n",
    "    response = response.choices[0].message.content.strip()\n",
    "    print(response)\n",
    "    print('------')\n",
    "\n",
    "    assert response in ['YES', 'NO','UNCLEAR']\n",
    "    if response == 'UNCLEAR':\n",
    "        continue\n",
    "    truth = response == 'YES'\n",
    "    # print(truth)\n",
    "    entry['truth'] = truth"
   ]
  },
  {
   "cell_type": "code",
   "execution_count": null,
   "metadata": {},
   "outputs": [],
   "source": [
    "#step six: combine the results (geo average)\n",
    "probs = []\n",
    "for entry in prob_values:\n",
    "    if 'truth' not in entry:\n",
    "        continue\n",
    "    prob = entry['ifTrue'] if entry['truth'] else entry['ifFalse']\n",
    "    probs.append(prob)\n",
    "prob = 1\n",
    "for p in probs:\n",
    "    prob *= p\n",
    "final_prob = prob**(1/len(probs))\n",
    "print(final_prob)"
   ]
  },
  {
   "cell_type": "code",
   "execution_count": null,
   "metadata": {},
   "outputs": [],
   "source": [
    "#step six: combine the results (weighted average)\n",
    "probs = []\n",
    "weights = []\n",
    "for entry in prob_values:\n",
    "    if 'truth' not in entry:\n",
    "        continue\n",
    "    prob = entry['ifTrue'] if entry['truth'] else entry['ifFalse']\n",
    "    probs.append(prob)\n",
    "    weight = abs(0.5-prob)**2\n",
    "    weights.append(weight)\n",
    "final_prob = sum([p*w for p,w in zip(probs,weights)])/sum(weights)\n",
    "print(final_prob)"
   ]
  },
  {
   "cell_type": "code",
   "execution_count": null,
   "metadata": {},
   "outputs": [],
   "source": [
    "#step six: combine the results (arithmetic averaging)\n",
    "probs = []\n",
    "for entry in prob_values:\n",
    "    if 'truth' not in entry:\n",
    "        continue\n",
    "    prob = entry['ifTrue'] if entry['truth'] else entry['ifFalse']\n",
    "    probs.append(prob)\n",
    "final_prob = sum(probs)/len(probs)\n",
    "print(final_prob)"
   ]
  },
  {
   "cell_type": "code",
   "execution_count": null,
   "metadata": {},
   "outputs": [],
   "source": [
    "#step six: combine the results (median)\n",
    "import numpy as np\n",
    "probs = []\n",
    "for entry in prob_values:\n",
    "    if 'truth' not in entry:\n",
    "        continue\n",
    "    prob = entry['ifTrue'] if entry['truth'] else entry['ifFalse']\n",
    "    probs.append(prob)\n",
    "final_prob = np.median(probs)\n",
    "print(final_prob)"
   ]
  },
  {
   "cell_type": "code",
   "execution_count": null,
   "metadata": {},
   "outputs": [],
   "source": [
    "#step six: combine the results (minimum)\n",
    "probs = []\n",
    "for entry in prob_values:\n",
    "    if 'truth' not in entry:\n",
    "        continue\n",
    "    prob = entry['ifTrue'] if entry['truth'] else entry['ifFalse']\n",
    "    probs.append(prob)\n",
    "final_prob = min(probs)\n",
    "print(final_prob)"
   ]
  },
  {
   "cell_type": "code",
   "execution_count": null,
   "metadata": {},
   "outputs": [],
   "source": [
    "#step six: combine the results (maximum)\n",
    "probs = []\n",
    "for entry in prob_values:\n",
    "    if 'truth' not in entry:\n",
    "        continue\n",
    "    prob = entry['ifTrue'] if entry['truth'] else entry['ifFalse']\n",
    "    probs.append(prob)\n",
    "final_prob = max(probs)\n",
    "print(final_prob)"
   ]
  },
  {
   "cell_type": "code",
   "execution_count": null,
   "metadata": {},
   "outputs": [],
   "source": [
    "#step six: combine the results (noisy-OR)\n",
    "prob_not = 1\n",
    "for entry in prob_values:\n",
    "    if 'truth' not in entry:\n",
    "        continue\n",
    "    prob = entry['ifTrue'] if entry['truth'] else entry['ifFalse']\n",
    "    prob_not *= 1 - prob\n",
    "final_prob = 1 - prob_not\n",
    "print(final_prob)"
   ]
  },
  {
   "cell_type": "code",
   "execution_count": null,
   "metadata": {},
   "outputs": [],
   "source": [
    "#step six: combine the results (noisy-AND)\n",
    "prob = 1\n",
    "for entry in prob_values:\n",
    "    if 'truth' not in entry:\n",
    "        continue\n",
    "    prob *= entry['ifTrue'] if entry['truth'] else entry['ifFalse']\n",
    "final_prob = prob\n",
    "print(final_prob)"
   ]
  },
  {
   "cell_type": "code",
   "execution_count": null,
   "metadata": {},
   "outputs": [],
   "source": [
    "#step six: combine the results (avg between noisy-OR and noisy-AND)\n",
    "prob_not = 1\n",
    "for entry in prob_values:\n",
    "    if 'truth' not in entry:\n",
    "        continue\n",
    "    prob = entry['ifTrue'] if entry['truth'] else entry['ifFalse']\n",
    "    prob_not *= 1 - prob\n",
    "prob_or = 1 - prob_not\n",
    "\n",
    "prob = 1\n",
    "for entry in prob_values:\n",
    "    if 'truth' not in entry:\n",
    "        continue\n",
    "    prob *= entry['ifTrue'] if entry['truth'] else entry['ifFalse']\n",
    "prob_and = prob\n",
    "\n",
    "final_prob = (prob_or + prob_and) / 2\n",
    "print(final_prob)"
   ]
  },
  {
   "cell_type": "code",
   "execution_count": null,
   "metadata": {},
   "outputs": [],
   "source": [
    "#step six: combine the results (naive bayes)\n",
    "no_event = 1\n",
    "is_event = 1\n",
    "for entry in prob_values:\n",
    "    if 'truth' not in entry:\n",
    "        continue\n",
    "    prob = entry['ifTrue'] if entry['truth'] else entry['ifFalse']\n",
    "    no_event *= 1 - prob\n",
    "    is_event *= prob\n",
    "\n",
    "final_prob = is_event / (is_event + no_event)\n",
    "print(final_prob)"
   ]
  },
  {
   "cell_type": "markdown",
   "metadata": {},
   "source": [
    "## use AskNews"
   ]
  },
  {
   "cell_type": "code",
   "execution_count": 86,
   "metadata": {},
   "outputs": [],
   "source": [
    "import os\n",
    "\n",
    "from asknews_sdk import AskNewsSDK\n",
    "ask = AskNewsSDK(\n",
    "    client_id=os.environ[\"ASKNEWS_ID\"],\n",
    "    client_secret=os.environ[\"ASKNEWS_SECRET\"],\n",
    ")\n"
   ]
  },
  {
   "cell_type": "code",
   "execution_count": 87,
   "metadata": {},
   "outputs": [
    {
     "data": {
      "text/plain": [
       "SearchResponse(as_dicts=[SearchResponseDictItem(article_url=Url('https://www.marketbeat.com/instant-alerts/nasdaq-tsla-percent-advance-2024-10-08/'), article_id=UUID('54e85cb2-9d51-58c6-b9de-9ea2c1bb5b36'), classification='Finance', country='US', source_id='Market Beat', page_rank=11885, domain_url='marketbeat.com', eng_title='Tesla (NASDAQ:TSLA) Stock Price Up 1.1% Following Analyst Upgrade', entities=Entities(Person=[], Organization=['Tesla', 'Citigroup', 'Morgan Stanley', 'Royal Bank of Canada', 'TSLA', 'NASDAQ'], Location=[], Nationality=[], Date=[], Event=[], Money=['$776.41 billion', '$210.90', '$310.00', '$236.00', '$224.18', '$258.00', '$202.26', '$16,663,291. 25'], Law=[], Quantity=['6.79', '0.08', '62.10', '1.40', '1.91', '2.29'], Time=['90 days'], Sports=[], Politics=[], Title=[], Number=['74,661'], Arms=[], Product=[], Media=['MarketBeat'], Transportation=[], Religion=[], Technology=[], Space=[], Medicine=[], Language=[], Science=[]), image_url='https://www.marketbeat.com/images/marketbeat-logo-1200-1200.jpg?v=1', keywords=['Tesla', 'Stock Price', 'Analyst Upgrade', 'Royal Bank of Canada', 'NASDAQ:TSLA'], language='en', pub_date=datetime.datetime(2024, 10, 8, 15, 23, 10, tzinfo=TzInfo(UTC)), summary=\"Tesla's (NASDAQ:TSLA) stock price rose 1.1% after Royal Bank of Canada upgraded its price target to $236.00. Several other brokerages have also commented on TSLA, with Morgan Stanley maintaining an 'overweight' rating and a $310.00 target price, while Citigroup decreased its price objective to $258.00 and set a 'neutral' rating. In the last 90 days, insiders have sold 74,661 shares of company stock worth $16,663,291. 25.10% of the stock is currently owned by insiders. The company has a debt-to-equity ratio of 0.08, a current ratio of 1.91 and a quick ratio of 1.40. Tesla's 50-day moving average price is $224.18 and its 200-day moving average price is $202.26. The stock has a market capitalization of $776.41 billion, a price-to-earnings ratio of 62.10, a PEG ratio of 6.79 and a beta of 2.29. According to MarketBeat, Tesla has a consensus rating of 'Hold' and an average target price of $210.90.\", title='Tesla (NASDAQ:TSLA) Stock Price Up 1.1% Following Analyst Upgrade', sentiment=1, medoid_distance=None, markdown_citation='[MB](https://www.marketbeat.com/instant-alerts/nasdaq-tsla-percent-advance-2024-10-08/)', provocative='low', reporting_voice='Objective', entity_relation_graph=None, as_string_key='[1]'), SearchResponseDictItem(article_url=Url('https://slatersentinel.com/news/2024/10/08/tesla-inc-nasdaqtsla-shares-sold-by-white-wing-wealth-management.html'), article_id=UUID('5e226997-2cac-5320-a423-36109feb09e8'), classification='Finance', country='US', source_id='slatersentinel.com', page_rank=10000000, domain_url='slatersentinel.com', eng_title='Tesla, Inc. (NASDAQ:TSLA) Shares Sold by White Wing Wealth Management', entities=Entities(Person=[], Organization=['Morgan Stanley', 'Tesla', 'Tesla, Inc.', 'White Wing Wealth Management', 'TSLA', 'NASDAQ', 'Cantor Fitzgerald'], Location=[], Nationality=[], Date=['Tuesday', 'July 23rd'], Event=[], Money=['$31,000', '$0.52', '$138.80', '$780.05 billion', '$16,663,291', '$1,506,000', '$0.62', '$310.00', '$245.00', '$271.00'], Law=[], Quantity=['74,661', '1.74', '61.44', '2.29'], Time=['ninety days', '3rd quarter'], Sports=[], Politics=[], Title=[], Number=['143'], Arms=[], Product=[], Media=[], Transportation=[], Religion=[], Technology=[], Space=[], Medicine=[], Language=[], Science=[]), image_url='https://www.americanbankingnews.com/wp-content/timthumb/timthumb.php?src=https://www.marketbeat.com/logos/tesla-inc-logo-1200x675.png?v=20221020135629&w=240&h=240&zc=2', keywords=['Tesla', 'NASDAQ', 'White Wing Wealth Management', 'Stock Market', 'Earnings'], language='en', pub_date=datetime.datetime(2024, 10, 8, 15, 2, 51, tzinfo=TzInfo(UTC)), summary=\"White Wing Wealth Management decreased its position in Tesla, Inc. (NASDAQ:TSLA) by 2.4% in the 3rd quarter, selling 143 shares worth $31,000. The company's holdings in Tesla were worth $1,506,000 at the end of the most recent reporting period. Other hedge funds have also recently bought and sold shares of the company. Insiders have sold 74,661 shares of company stock valued at $16,663,291 over the last ninety days. Tesla's stock has a market cap of $780.05 billion, a PE ratio of 61.44, and a beta of 2.29. The company has a 1 year low of $138.80 and a 1 year high of $271.00. Tesla's quarterly earnings data on Tuesday, July 23rd, reported $0.52 earnings per share (EPS) for the quarter, missing analysts' consensus estimates of $0.62 by ($0.10). Sell-side analysts forecast that Tesla, Inc. will post 1.74 EPS for the current year. Analysts have commented on TSLA shares, with Cantor Fitzgerald reaffirming a 'neutral' rating and set a $245.00 price objective, and Morgan Stanley reiterated an 'overweight' rating and set a $310.00 price target.\", title='Tesla, Inc. (NASDAQ:TSLA) Shares Sold by White Wing Wealth Management', sentiment=-1, medoid_distance=None, markdown_citation='[SL](https://slatersentinel.com/news/2024/10/08/tesla-inc-nasdaqtsla-shares-sold-by-white-wing-wealth-management.html)', provocative='low', reporting_voice='Objective', entity_relation_graph=None, as_string_key='[2]'), SearchResponseDictItem(article_url=Url('https://slatersentinel.com/news/2024/10/08/tesla-nasdaqtsla-pt-raised-to-236-00.html'), article_id=UUID('1f69964a-d0d4-58f0-9f74-9a816b67fd8f'), classification='Finance', country='US', source_id='slatersentinel.com', page_rank=10000000, domain_url='slatersentinel.com', eng_title='Tesla (NASDAQ:TSLA) PT Raised to $236.00', entities=Entities(Person=[], Organization=['TD Cowen', 'Tesla', 'TSLA', 'Royal Bank of Canada', 'NASDAQ'], Location=[], Nationality=[], Date=['Tuesday'], Event=[], Money=['$138.80', '$240.83', '$210.90', '$160.00', '$768.05 billion', '$180.00', '$271.00', '$236.00', '$224.00'], Law=[], Quantity=['61.44', '2.29', '1.91', '1.40', '0.08', '6.79'], Time=['1 year'], Sports=[], Politics=[], Title=[], Number=[], Arms=[], Product=[], Media=['MarketBeat'], Transportation=[], Religion=[], Technology=[], Space=[], Medicine=[], Language=[], Science=[]), image_url='https://www.americanbankingnews.com/wp-content/timthumb/timthumb.php?src=https://www.marketbeat.com/logos/tesla-inc-logo-1200x675.png?v=20221020135629&w=240&h=240&zc=2', keywords=['Tesla', 'Price Target', 'Royal Bank of Canada', 'NASDAQ:TSLA'], language='en', pub_date=datetime.datetime(2024, 10, 8, 12, 57, 3, tzinfo=TzInfo(UTC)), summary=\"Tesla's (NASDAQ:TSLA) price target has been raised by Royal Bank of Canada from $224.00 to $236.00, according to a note issued to investors on Tuesday. The brokerage currently has an 'outperform' rating on the electric vehicle producer's stock. Several other analysts have also weighed in on the company, with TD Cowen boosting their target price on Tesla from $160.00 to $180.00 and giving the company a 'hold' rating. Tesla's stock is currently trading down 3.7% at $240.83. The company has a debt-to-equity ratio of 0.08, a quick ratio of 1.40 and a current ratio of 1.91. Tesla has a 1 year low of $138.80 and a 1 year high of $271.00. The stock has a market cap of $768.05 billion, a P/E ratio of 61.44, a P/E/G ratio of 6.79 and a beta of 2.29. According to MarketBeat, the company has an average rating of 'Hold' and an average target price of $210.90.\", title='Tesla (NASDAQ:TSLA) PT Raised to $236.00', sentiment=0, medoid_distance=None, markdown_citation='[SL](https://slatersentinel.com/news/2024/10/08/tesla-nasdaqtsla-pt-raised-to-236-00.html)', provocative='low', reporting_voice='Objective', entity_relation_graph=None, as_string_key='[4]'), SearchResponseDictItem(article_url=Url('https://economictimes.indiatimes.com/news/international/us/tesla-stock-to-fall-by-48-jp-morgan-is-pointing-to-an-unprecedented-development-for-the-ev-leader/articleshow/114024381.cms'), article_id=UUID('62c9c2a8-0cca-5e9b-8500-9af95b85033a'), classification='Finance', country='Unknown', source_id='Economic Times', page_rank=128, domain_url='economictimes.indiatimes.com', eng_title='Tesla stock to fall by 48%? JP Morgan is pointing to an unprecedented development for the EV leader', entities=Entities(Person=['Elon Musk', 'Ryan Brinkman'], Organization=['Republican', 'JP Morgan', 'Tesla'], Location=['Pennsylvania'], Nationality=[], Date=[], Event=[], Money=[], Law=[], Quantity=[], Time=[], Sports=[], Politics=['Trump'], Title=[], Number=[], Arms=[], Product=['EV'], Media=[], Transportation=[], Religion=[], Technology=[], Space=[], Medicine=[], Language=[], Science=[]), image_url='https://img.etimg.com/thumb/msid-114024376,width-1200,height-630,imgsize-100436,overlay-economictimes/photo.jpg', keywords=['Tesla', 'Stock Price', 'JP Morgan', 'Elon Musk'], language='en', pub_date=datetime.datetime(2024, 10, 7, 21, 9, 42, tzinfo=TzInfo(UTC)), summary=\"JP Morgan analyst Ryan Brinkman warns that Tesla's stock could fall by 48% in the coming months, citing the company's lofty valuation and lack of volume unit growth. Tesla's stock price has been sitting at an unnatural high, but has begun to descend and may touch new lows by the end of the year. Elon Musk's endorsement of Trump and his presence at a Republican campaign event in Pennsylvania may also impact Tesla's stock, but analysts believe that market forces will be more prevalent in this case. Tesla's stock has shown a downward trend in the last few days, and analysts are warning about the EV maker's stock prices going on a free fall towards the end of the year.\", title='Tesla stock to fall by 48%? JP Morgan is pointing to an unprecedented development for the EV leader', sentiment=-1, medoid_distance=None, markdown_citation='[ET](https://economictimes.indiatimes.com/news/international/us/tesla-stock-to-fall-by-48-jp-morgan-is-pointing-to-an-unprecedented-development-for-the-ev-leader/articleshow/114024381.cms)', provocative='high', reporting_voice='Analytical', entity_relation_graph=None, as_string_key='[6]'), SearchResponseDictItem(article_url=Url('https://markets.businessinsider.com/news/stocks/here-s-how-to-extract-a-29-yield-from-tesla-stock-tsla-1033825854'), article_id=UUID('dddea597-614a-5c5f-a5c2-899bdb542198'), classification='Finance', country='US', source_id='Markets Insider', page_rank=234, domain_url='markets.businessinsider.com', eng_title=\"Here's How to Extract a 29% Yield from Tesla Stock (TSLA)\", entities=Entities(Person=[], Organization=['TSLA', 'Tesla'], Location=[], Nationality=[], Date=[], Event=[], Money=['$7.75', '$217.75', '$2.25'], Law=[], Quantity=['3.44-to-one', '12.9%', '29%'], Time=[], Sports=[], Politics=[], Title=[], Number=[], Arms=[], Product=['put option', 'bull put spread'], Media=['Markets Insider'], Transportation=[], Religion=[], Technology=[], Space=[], Medicine=[], Language=[], Science=[]), image_url='https://blog.tipranks.com/wp-content/uploads/2024/10/TSLA-bull-put-spread-1024x608.jpg?utm_source=markets.businessinsider.com&utm_medium=referral', keywords=['Tesla', 'Stock', 'Options Strategy', 'Bull Put Spread', 'Dividends'], language='en', pub_date=datetime.datetime(2024, 10, 7, 19, 42, 26, tzinfo=TzInfo(UTC)), summary='Tesla (TSLA) stock is a hot technology enterprise focused on growth, but this comes at the cost of rewarding shareholders with dividends. However, a surprisingly simple options strategy called the bull put spread can extract a massive 29% yield in TSLA stock over a short time period. The strategy involves selling a put option and buying a put option at a lower strike price, limiting the risk and generating income. According to Markets Insider, the net income received from this trade is $2.25, with a maximum risk of $7.75 and a risk-reward ratio of 3.44-to-one. The breakeven for this bull put spread sits at $217.75, and TSLA stock may drop 12.9% before an investor begins losing money. This strategy is attractive for those who hold a Neutral view on Tesla, as it provides a margin of safety and is superior to selling a put option straight.', title=\"Here's How to Extract a 29% Yield from Tesla Stock (TSLA)\", sentiment=1, medoid_distance=None, markdown_citation='[MI](https://markets.businessinsider.com/news/stocks/here-s-how-to-extract-a-29-yield-from-tesla-stock-tsla-1033825854)', provocative='low', reporting_voice='Explanatory', entity_relation_graph=None, as_string_key='[8]'), SearchResponseDictItem(article_url=Url('https://www.teleborsa.it/News/2024/10/07/new-york-rosso-per-tesla-motors-187_TLB-AUTO.html'), article_id=UUID('97305509-5ca1-5d13-ad33-ef75a6b2ed8e'), classification='Finance', country='IT', source_id='teleborsa.it', page_rank=182976, domain_url='teleborsa.it', eng_title='Tesla Motors: A 2.51% Decline in Value', entities=Entities(Person=[], Organization=['Tesla Motors', 'Nasdaq 100'], Location=[], Nationality=[], Date=[], Event=[], Money=['$238 USD', '$248.3 USD', '$240.9 USD'], Law=[], Quantity=[], Time=['medium term'], Sports=[], Politics=[], Title=[], Number=[], Arms=[], Product=[], Media=[], Transportation=[], Religion=[], Technology=[], Space=[], Medicine=[], Language=[], Science=[]), image_url='http://images.teleborsa.it/t/stabile/116913.t.W600.H340.M4.jpg', keywords=['Tesla', 'Stock Decline', 'Nasdaq 100', 'Technical Analysis'], language='it', pub_date=datetime.datetime(2024, 10, 7, 0, 0, tzinfo=TzInfo(UTC)), summary='Tesla Motors experienced a 2.51% decline in value, with a more subdued performance compared to the Nasdaq 100. The technical implications for the medium term are still bullish, but the short-term trend is weakening due to the difficulty in breaking through the $248.3 USD level. The immediate support level is at $240.9 USD, and a correction to $238 USD is expected in the near future. The analysis is for informational purposes only and should not be considered as financial advice or a solicitation to invest.', title='New York: rosso per Tesla Motors', sentiment=-1, medoid_distance=None, markdown_citation='[TE](https://www.teleborsa.it/News/2024/10/07/new-york-rosso-per-tesla-motors-187_TLB-AUTO.html)', provocative='low', reporting_voice='Objective', entity_relation_graph=None, as_string_key='[9]')], as_string=None, offset=5)"
      ]
     },
     "metadata": {},
     "output_type": "display_data"
    }
   ],
   "source": [
    "response = ask.news.search_news(\n",
    "    query=\"tesla stock share price\", # your keyword query\n",
    "    n_articles=10, # control the number of articles to include in the context\n",
    "    return_type=\"dicts\",  # you can also ask for \"dicts\" if you want more information\n",
    "    method=\"both\"  # use \"nl\" for natural language for your search, or \"kw\" for keyword search\n",
    ")\n",
    "\n",
    "display(response)"
   ]
  },
  {
   "cell_type": "code",
   "execution_count": 91,
   "metadata": {},
   "outputs": [
    {
     "name": "stdout",
     "output_type": "stream",
     "text": [
      "Tesla (NASDAQ:TSLA) Stock Price Up 1.1% Following Analyst Upgrade\n",
      "Tesla's (NASDAQ:TSLA) stock price rose 1.1% after Royal Bank of Canada upgraded its price target to $236.00. Several other brokerages have also commented on TSLA, with Morgan Stanley maintaining an 'overweight' rating and a $310.00 target price, while Citigroup decreased its price objective to $258.00 and set a 'neutral' rating. In the last 90 days, insiders have sold 74,661 shares of company stock worth $16,663,291. 25.10% of the stock is currently owned by insiders. The company has a debt-to-equity ratio of 0.08, a current ratio of 1.91 and a quick ratio of 1.40. Tesla's 50-day moving average price is $224.18 and its 200-day moving average price is $202.26. The stock has a market capitalization of $776.41 billion, a price-to-earnings ratio of 62.10, a PEG ratio of 6.79 and a beta of 2.29. According to MarketBeat, Tesla has a consensus rating of 'Hold' and an average target price of $210.90.\n",
      "------\n",
      "Tesla, Inc. (NASDAQ:TSLA) Shares Sold by White Wing Wealth Management\n",
      "White Wing Wealth Management decreased its position in Tesla, Inc. (NASDAQ:TSLA) by 2.4% in the 3rd quarter, selling 143 shares worth $31,000. The company's holdings in Tesla were worth $1,506,000 at the end of the most recent reporting period. Other hedge funds have also recently bought and sold shares of the company. Insiders have sold 74,661 shares of company stock valued at $16,663,291 over the last ninety days. Tesla's stock has a market cap of $780.05 billion, a PE ratio of 61.44, and a beta of 2.29. The company has a 1 year low of $138.80 and a 1 year high of $271.00. Tesla's quarterly earnings data on Tuesday, July 23rd, reported $0.52 earnings per share (EPS) for the quarter, missing analysts' consensus estimates of $0.62 by ($0.10). Sell-side analysts forecast that Tesla, Inc. will post 1.74 EPS for the current year. Analysts have commented on TSLA shares, with Cantor Fitzgerald reaffirming a 'neutral' rating and set a $245.00 price objective, and Morgan Stanley reiterated an 'overweight' rating and set a $310.00 price target.\n",
      "------\n",
      "Tesla (NASDAQ:TSLA) PT Raised to $236.00\n",
      "Tesla's (NASDAQ:TSLA) price target has been raised by Royal Bank of Canada from $224.00 to $236.00, according to a note issued to investors on Tuesday. The brokerage currently has an 'outperform' rating on the electric vehicle producer's stock. Several other analysts have also weighed in on the company, with TD Cowen boosting their target price on Tesla from $160.00 to $180.00 and giving the company a 'hold' rating. Tesla's stock is currently trading down 3.7% at $240.83. The company has a debt-to-equity ratio of 0.08, a quick ratio of 1.40 and a current ratio of 1.91. Tesla has a 1 year low of $138.80 and a 1 year high of $271.00. The stock has a market cap of $768.05 billion, a P/E ratio of 61.44, a P/E/G ratio of 6.79 and a beta of 2.29. According to MarketBeat, the company has an average rating of 'Hold' and an average target price of $210.90.\n",
      "------\n",
      "Tesla stock to fall by 48%? JP Morgan is pointing to an unprecedented development for the EV leader\n",
      "JP Morgan analyst Ryan Brinkman warns that Tesla's stock could fall by 48% in the coming months, citing the company's lofty valuation and lack of volume unit growth. Tesla's stock price has been sitting at an unnatural high, but has begun to descend and may touch new lows by the end of the year. Elon Musk's endorsement of Trump and his presence at a Republican campaign event in Pennsylvania may also impact Tesla's stock, but analysts believe that market forces will be more prevalent in this case. Tesla's stock has shown a downward trend in the last few days, and analysts are warning about the EV maker's stock prices going on a free fall towards the end of the year.\n",
      "------\n",
      "Here's How to Extract a 29% Yield from Tesla Stock (TSLA)\n",
      "Tesla (TSLA) stock is a hot technology enterprise focused on growth, but this comes at the cost of rewarding shareholders with dividends. However, a surprisingly simple options strategy called the bull put spread can extract a massive 29% yield in TSLA stock over a short time period. The strategy involves selling a put option and buying a put option at a lower strike price, limiting the risk and generating income. According to Markets Insider, the net income received from this trade is $2.25, with a maximum risk of $7.75 and a risk-reward ratio of 3.44-to-one. The breakeven for this bull put spread sits at $217.75, and TSLA stock may drop 12.9% before an investor begins losing money. This strategy is attractive for those who hold a Neutral view on Tesla, as it provides a margin of safety and is superior to selling a put option straight.\n",
      "------\n",
      "New York: rosso per Tesla Motors\n",
      "Tesla Motors experienced a 2.51% decline in value, with a more subdued performance compared to the Nasdaq 100. The technical implications for the medium term are still bullish, but the short-term trend is weakening due to the difficulty in breaking through the $248.3 USD level. The immediate support level is at $240.9 USD, and a correction to $238 USD is expected in the near future. The analysis is for informational purposes only and should not be considered as financial advice or a solicitation to invest.\n",
      "------\n"
     ]
    }
   ],
   "source": [
    "for x in response.as_dicts:\n",
    "    print(x.title)\n",
    "    print(x.summary)\n",
    "    print('------')"
   ]
  },
  {
   "cell_type": "markdown",
   "metadata": {},
   "source": [
    "# recreate perplexity"
   ]
  },
  {
   "cell_type": "code",
   "execution_count": null,
   "metadata": {},
   "outputs": [],
   "source": [
    "# google search api + wayback machine + page minification (pandoc?) + gpt4o interpretation of pages"
   ]
  },
  {
   "cell_type": "code",
   "execution_count": 26,
   "metadata": {},
   "outputs": [],
   "source": [
    "from datetime import datetime\n",
    "end_date = datetime(2022, 1, 1)"
   ]
  },
  {
   "cell_type": "code",
   "execution_count": null,
   "metadata": {},
   "outputs": [],
   "source": [
    "google_api_key = os.environ[\"GOOGLE_KEY\"]\n",
    "cse_id = os.environ[\"GOOGLE_CSE\"]\n",
    "\n",
    "import requests\n",
    "import json\n",
    "\n",
    "def google_search(query, end_date:datetime=None, pages=3):\n",
    "\n",
    "    links = []\n",
    "\n",
    "    for i in range(0, pages):\n",
    "\n",
    "        start = i * 10 + 1\n",
    "        url = f\"https://www.googleapis.com/customsearch/v1?start={start}&key={google_api_key}&cx={cse_id}&q={query}\"\n",
    "        if end_date:\n",
    "            date_str = end_date.strftime(\"%Y%m%d\")\n",
    "            url += f\"&sort=date:r::{date_str}\"\n",
    "        response = requests.get(url)\n",
    "        response = json.loads(response.text)\n",
    "\n",
    "        for x in response['items']:\n",
    "            links.append(x['link'])\n",
    "\n",
    "    return links\n",
    "\n",
    "links = google_search(\"Has Roswell seen a consistent trend of increasing house prices over the past five years?\", end_date)\n",
    "display(links)"
   ]
  },
  {
   "cell_type": "code",
   "execution_count": null,
   "metadata": {},
   "outputs": [],
   "source": [
    "import time\n",
    "from markdownify import markdownify as md\n",
    "\n",
    "def get_historical_page(page, end_date:datetime=None):\n",
    "\n",
    "    referer = \"https://web.archive.org\"\n",
    "\n",
    "    #get the years that are available\n",
    "    url = \"https://web.archive.org/__wb/sparkline\"\n",
    "    payload = {\n",
    "        \"output\": \"json\",\n",
    "        \"url\": page,\n",
    "        \"collection\": \"web\"\n",
    "    }\n",
    "    response = requests.get(url, params=payload, headers={\"Referer\":referer})\n",
    "    response = json.loads(response.text)\n",
    "\n",
    "    #get possible years\n",
    "    years = []\n",
    "    for x in response['years']:\n",
    "        x = int(x)\n",
    "        if x <= end_date.year:\n",
    "            years.append(x)\n",
    "\n",
    "    #youngest to oldest\n",
    "    years = sorted(years, reverse=True)\n",
    "\n",
    "    #get possible timestamps\n",
    "    found_date = None\n",
    "    for year in years:\n",
    "\n",
    "        time.sleep(1) #avoid rate limiting\n",
    "        url = \"https://web.archive.org/__wb/calendarcaptures/2\"\n",
    "        payload = {\n",
    "            \"url\": page,\n",
    "            \"groupby\": \"day\",\n",
    "            \"date\":year\n",
    "        }\n",
    "        response = requests.get(url, params=payload, headers={\"Referer\":referer})\n",
    "        response = json.loads(response.text)\n",
    "        items = [x[0] for x in response['items']]\n",
    "        items = sorted(items, reverse=True)\n",
    "        for x in items:\n",
    "            day = x % 100\n",
    "            month = x // 100\n",
    "            date = datetime(year, month, day)\n",
    "            if date <= end_date:\n",
    "                found_date = date\n",
    "                break\n",
    "\n",
    "        if found_date:\n",
    "            break\n",
    "\n",
    "    if not found_date:\n",
    "        return None\n",
    "    \n",
    "    print(found_date.strftime('%Y%m%d%H%M%S'))\n",
    "\n",
    "    #get the page contents\n",
    "    url = f\"https://web.archive.org/web/{found_date.strftime('%Y%m%d%H%M%S')}/{page}\"\n",
    "    response = requests.get(url)\n",
    "    return response.text\n",
    "\n",
    "N = 7\n",
    "print(links[N])\n",
    "page_html = get_historical_page(links[N], end_date)\n",
    "if page_html:\n",
    "    with open(\"page.html\", \"w\", encoding=\"utf-8\") as f:\n",
    "        f.write(page_html)\n",
    "    markdown = md(page_html)\n",
    "    with open(\"page.md\", \"w\", encoding=\"utf-8\") as f:\n",
    "        f.write(markdown)\n",
    "else:\n",
    "    print(\"No page found\")"
   ]
  }
 ],
 "metadata": {
  "kernelspec": {
   "display_name": "venv",
   "language": "python",
   "name": "python3"
  },
  "language_info": {
   "codemirror_mode": {
    "name": "ipython",
    "version": 3
   },
   "file_extension": ".py",
   "mimetype": "text/x-python",
   "name": "python",
   "nbconvert_exporter": "python",
   "pygments_lexer": "ipython3",
   "version": "3.10.0"
  }
 },
 "nbformat": 4,
 "nbformat_minor": 2
}
